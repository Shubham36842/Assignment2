{
 "cells": [
  {
   "cell_type": "raw",
   "id": "fc5e02c6-068c-444e-8678-9a6ebd71a904",
   "metadata": {},
   "source": [
    "Q1. How do you comment code in Python? What are the different types of comments?"
   ]
  },
  {
   "cell_type": "raw",
   "id": "56bd2344-660a-4e29-8ffb-5c1c6816eb8c",
   "metadata": {},
   "source": [
    "Ans: A comment code in Python can be implemented using # symbole.A line of code starting with      # symbole is treated as comment by Python Interpreter.\n",
    " \n",
    "     Single Line comment:- To implement a single line comment simply put # before a line of                              code in python.\n",
    "                           Example- # This is a comment\n",
    "                           \n",
    "     Multiple Line comment:-To implement multiple line comment in python use multiple single                             line comment or use docstring. \n",
    "                            Example #this is python comment\n",
    "                                    #this is multiline comment\n",
    "                                    or\n",
    "                                    \"\"\"this is python cooment\n",
    "                                        implement multiple line comment\"\"\""
   ]
  },
  {
   "cell_type": "raw",
   "id": "22d84535-f468-43c4-98af-99e8ca4d9b0c",
   "metadata": {},
   "source": [
    "Q2. What are variables in Python? How do you declare and assign values to variables?"
   ]
  },
  {
   "cell_type": "raw",
   "id": "8751e1a7-ef2b-4e84-aa6a-d7c9be7f1d9e",
   "metadata": {},
   "source": [
    "Ans:Variables are used to hold different type of values in python program.The value hold by       these variables can be changed througout the program.when we create a variable it hold a     portion of memory where data can be stored.\n",
    "    \n",
    "    Declaration of variable:-Declaration of variable simply defines what kind of value it                                  hold and inform interpreter about type of variable.\n",
    "                             Example: var_str=\"\"\n",
    "                                      var_lst[]\n",
    "                                      \n",
    "    Assignment values to Variable:- This include to  simply assigning of value to a                                               variable.\n",
    "                                    Example: var_str=\"PwSkill\"\n",
    "                                            var_list=[1,3,2,\"hi\"]\n",
    "     Note: ge                                       "
   ]
  },
  {
   "cell_type": "raw",
   "id": "8f0ba575-a84b-4b5a-8c64-eb652a84fe2a",
   "metadata": {},
   "source": [
    "Q3. How do you convert one data type to another in Python?"
   ]
  },
  {
   "cell_type": "raw",
   "id": "621ada29-95db-478f-b289-d95b18826a4f",
   "metadata": {},
   "source": [
    "Ans: TypeCasting:-This is method using which we convert a data type to another data type in                     python."
   ]
  },
  {
   "cell_type": "code",
   "execution_count": 2,
   "id": "c5540ab1-5ef6-4246-aea6-50e163b257ff",
   "metadata": {},
   "outputs": [
    {
     "name": "stdout",
     "output_type": "stream",
     "text": [
      "3\n"
     ]
    }
   ],
   "source": [
    "a=3.156\n",
    "b=int(a)\n",
    "print(b)"
   ]
  },
  {
   "cell_type": "code",
   "execution_count": 3,
   "id": "ed5e369b-fee4-40ac-9ce7-2d82ceee5214",
   "metadata": {},
   "outputs": [
    {
     "name": "stdout",
     "output_type": "stream",
     "text": [
      "['P', 'W', 'S', 'K', 'I', 'L', 'L']\n"
     ]
    }
   ],
   "source": [
    "var_str=\"PWSKILL\"\n",
    "var_lst=list(var_str)\n",
    "print(var_lst)"
   ]
  },
  {
   "cell_type": "raw",
   "id": "aaa6e95f-e46d-4d38-b272-c1eb3fcb8b8b",
   "metadata": {},
   "source": [
    "Q4. How do you write and execute a Python script from the command line?"
   ]
  },
  {
   "cell_type": "raw",
   "id": "86eb2e56-00e5-4043-a718-85a4b2274383",
   "metadata": {},
   "source": [
    "Ans:Step 1: Open the terminal of your machine .\n",
    "    Step 2: Run the python in terminal using command \"python3'.\n",
    "    Step 3: Now python shell appear where you can write a script.\n",
    "    Step 4: After writing script press \"Enter key\" to execute the script."
   ]
  },
  {
   "cell_type": "raw",
   "id": "7166f65d-c21f-44a9-b23d-e32377f318de",
   "metadata": {},
   "source": [
    "Q5. Given a list my_list = [1, 2, 3, 4, 5], write the code to slice the list and obtain the sub-list [2, 3]."
   ]
  },
  {
   "cell_type": "code",
   "execution_count": 1,
   "id": "de702361-f0c0-4551-8cba-62cdce54c599",
   "metadata": {},
   "outputs": [
    {
     "data": {
      "text/plain": [
       "[2, 3]"
      ]
     },
     "execution_count": 1,
     "metadata": {},
     "output_type": "execute_result"
    }
   ],
   "source": [
    "my_list=[1,2,3,4,5]\n",
    "my_list[1:3]"
   ]
  },
  {
   "cell_type": "raw",
   "id": "442a99e7-7039-4c3e-b96b-a1cb6ed44656",
   "metadata": {},
   "source": [
    "Q6. What is a complex number in mathematics, and how is it represented in Python?"
   ]
  },
  {
   "cell_type": "raw",
   "id": "52476b73-247b-4723-816e-1e6c0739f73d",
   "metadata": {},
   "source": [
    "Ans: A complex number in mathmatics have two part a real number and a imaginary number.\n",
    "     Imaginary part can be represented in python using 'j'.\n",
    "     Example 4+2j"
   ]
  },
  {
   "cell_type": "code",
   "execution_count": 9,
   "id": "bbe3b49e-665c-4ef5-9a33-9b75395b0ff7",
   "metadata": {},
   "outputs": [
    {
     "data": {
      "text/plain": [
       "complex"
      ]
     },
     "execution_count": 9,
     "metadata": {},
     "output_type": "execute_result"
    }
   ],
   "source": [
    "a=3+4j\n",
    "type(a)"
   ]
  },
  {
   "cell_type": "raw",
   "id": "98f20f24-4952-433e-a642-217aba19c6e9",
   "metadata": {},
   "source": [
    "Q7. What is the correct way to declare a variable named age and assign the value 25 to it?"
   ]
  },
  {
   "cell_type": "raw",
   "id": "d1700f4a-2281-4463-989a-17a62981fc6e",
   "metadata": {},
   "source": [
    "Ans: Declaration and assignment of variable in python is done together.\n",
    "     Example: var_age=25"
   ]
  },
  {
   "cell_type": "code",
   "execution_count": 11,
   "id": "28ac0c99-9dc5-427e-931f-38bef1298327",
   "metadata": {},
   "outputs": [
    {
     "name": "stdout",
     "output_type": "stream",
     "text": [
      "25\n"
     ]
    },
    {
     "data": {
      "text/plain": [
       "int"
      ]
     },
     "execution_count": 11,
     "metadata": {},
     "output_type": "execute_result"
    }
   ],
   "source": [
    "var_age=25\n",
    "print(var_age)\n",
    "type(var_age)"
   ]
  },
  {
   "cell_type": "raw",
   "id": "422a050f-f751-43b8-9305-f47824b8d5e6",
   "metadata": {},
   "source": [
    "Q8. Declare a variable named price and assign the value 9.99 to it. What data type does this variable belong to?"
   ]
  },
  {
   "cell_type": "code",
   "execution_count": 13,
   "id": "4e148047-b650-4fc6-88a6-4c29fb2e1774",
   "metadata": {},
   "outputs": [
    {
     "data": {
      "text/plain": [
       "float"
      ]
     },
     "execution_count": 13,
     "metadata": {},
     "output_type": "execute_result"
    }
   ],
   "source": [
    "price=9.99\n",
    "type(price)"
   ]
  },
  {
   "cell_type": "raw",
   "id": "d08eff07-b2b3-489b-b92b-04cc4dcef5b5",
   "metadata": {},
   "source": [
    "Q9. Create a variable named name and assign your full name to it as a string. How would you print the value of this variable?"
   ]
  },
  {
   "cell_type": "code",
   "execution_count": 14,
   "id": "c52f0910-dce6-4b1e-bd43-1e516291f497",
   "metadata": {},
   "outputs": [
    {
     "name": "stdout",
     "output_type": "stream",
     "text": [
      "ShubhamKushwaha\n"
     ]
    }
   ],
   "source": [
    "name=\"ShubhamKushwaha\"\n",
    "print(name)"
   ]
  },
  {
   "cell_type": "raw",
   "id": "68f486a0-6b6b-4e1f-a218-888b5ef16770",
   "metadata": {},
   "source": [
    "Q10. Given the string \"Hello, World!\", extract the substring \"World\""
   ]
  },
  {
   "cell_type": "code",
   "execution_count": 16,
   "id": "d0c2ee0f-7f0b-4832-9f1b-c56ab24af6aa",
   "metadata": {},
   "outputs": [
    {
     "data": {
      "text/plain": [
       "'World'"
      ]
     },
     "execution_count": 16,
     "metadata": {},
     "output_type": "execute_result"
    }
   ],
   "source": [
    "var_str=\"Hello, World!\"\n",
    "var_str[7:12]"
   ]
  },
  {
   "cell_type": "raw",
   "id": "35819b4d-43ef-4c68-a3b8-2a6234134eb0",
   "metadata": {},
   "source": [
    "Q11. Create a variable named \"is_student\" and assign it a boolean value indicating whether you are currently a student or not."
   ]
  },
  {
   "cell_type": "code",
   "execution_count": 26,
   "id": "f7b28302-aa25-4ca1-929f-23a87e12eaca",
   "metadata": {},
   "outputs": [
    {
     "name": "stdout",
     "output_type": "stream",
     "text": [
      "you are a currently a student\n"
     ]
    }
   ],
   "source": [
    "is_student=True\n",
    "if(is_student==True):\n",
    "    print(\"you are a currently a student\")\n",
    "else:\n",
    "    print(\"you are not a student\")"
   ]
  },
  {
   "cell_type": "code",
   "execution_count": 27,
   "id": "0c18f967-0e11-4a5f-8948-08ebc98e9ee6",
   "metadata": {},
   "outputs": [
    {
     "name": "stdout",
     "output_type": "stream",
     "text": [
      "you are not a student\n"
     ]
    }
   ],
   "source": [
    "is_student=False\n",
    "if(is_student==True):\n",
    "    print(\"you are a currently a student\")\n",
    "else:\n",
    "    print(\"you are not a student\")"
   ]
  }
 ],
 "metadata": {
  "kernelspec": {
   "display_name": "Python 3 (ipykernel)",
   "language": "python",
   "name": "python3"
  },
  "language_info": {
   "codemirror_mode": {
    "name": "ipython",
    "version": 3
   },
   "file_extension": ".py",
   "mimetype": "text/x-python",
   "name": "python",
   "nbconvert_exporter": "python",
   "pygments_lexer": "ipython3",
   "version": "3.10.8"
  }
 },
 "nbformat": 4,
 "nbformat_minor": 5
}
